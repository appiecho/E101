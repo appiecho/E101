{
  "nbformat": 4,
  "nbformat_minor": 0,
  "metadata": {
    "colab": {
      "name": "Copy of numlist.py",
      "provenance": [],
      "collapsed_sections": [],
      "authorship_tag": "ABX9TyPvToM/8xFEffAITTgHz8dx",
      "include_colab_link": true
    },
    "kernelspec": {
      "name": "python3",
      "display_name": "Python 3"
    },
    "language_info": {
      "name": "python"
    }
  },
  "cells": [
    {
      "cell_type": "markdown",
      "metadata": {
        "id": "view-in-github",
        "colab_type": "text"
      },
      "source": [
        "<a href=\"https://colab.research.google.com/github/appiecho/E101/blob/lab8/Copy_of_numlist_py.ipynb\" target=\"_parent\"><img src=\"https://colab.research.google.com/assets/colab-badge.svg\" alt=\"Open In Colab\"/></a>"
      ]
    },
    {
      "cell_type": "code",
      "metadata": {
        "colab": {
          "base_uri": "https://localhost:8080/"
        },
        "id": "jPBcSIJFBQE1",
        "outputId": "1389adff-23af-4ded-9460-b6679531285d"
      },
      "source": [
        "#(lab8/numlist.py) Create a program in the lab8 directory that uses a while loop to collect integers as input from the user until a \"q\" is received \n",
        "# provide a text prompt to the user only one time for the data at the beginning. \n",
        "# For each integer, use the input() function without specifying a prompt string. \n",
        "# The numbers must be appended to a list named numbers.  \n",
        "#Once all of the numbers have been received, use a for loop to iterate through the list and determine the parameters listed below. \n",
        "#Low value \n",
        "#High Value\n",
        "#Sum of the integers in the list\n",
        "#Print the 3 parameters above along with the total number of integers and the average of the values. Also print the list.  \n",
        "import math\n",
        "import sys\n",
        "\n",
        "numbers = []\n",
        "max = 0\n",
        "min = 0\n",
        "total = 0\n",
        "\n",
        "while (1 == 1):\n",
        "  x = input(\"Enter an integer, enter 'q' to quit: \")\n",
        "  if x == str(\"q\"):\n",
        "    break\n",
        "  else:\n",
        "    x = int(x)\n",
        "    numbers.append(x)\n",
        "    if (min < x > max):\n",
        "      max = x\n",
        "    if (min > x < max):\n",
        "      min = x\n",
        "print(\"High value: \", max, \"Low value: \", min)\n",
        "\n",
        "#Sum() function doesn't work, had to use for loop. \n",
        "for ele in range(0, len(numbers)):\n",
        "    total = total + numbers[ele]\n",
        "print(\"Sum: \", total)\n",
        "\n",
        "num_int = len(numbers)\n",
        "print(\"Total integers: \", num_int)\n",
        "\n",
        "avg = total / len(numbers)\n",
        "print(\"Average: \", avg)\n",
        "\n",
        "print(numbers)\n"
      ],
      "execution_count": null,
      "outputs": [
        {
          "output_type": "stream",
          "name": "stdout",
          "text": [
            "Enter an integer, enter 'q' to quit: 1\n",
            "Enter an integer, enter 'q' to quit: 2\n",
            "Enter an integer, enter 'q' to quit: 3\n",
            "Enter an integer, enter 'q' to quit: -1\n",
            "Enter an integer, enter 'q' to quit: -3\n",
            "Enter an integer, enter 'q' to quit: q\n",
            "High value:  3 Low value:  -3\n",
            "Sum:  2\n",
            "Total integers:  5\n",
            "Average:  0.4\n",
            "[1, 2, 3, -1, -3]\n"
          ]
        }
      ]
    }
  ]
}